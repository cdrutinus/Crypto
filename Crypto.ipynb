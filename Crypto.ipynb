{
  "nbformat": 4,
  "nbformat_minor": 0,
  "metadata": {
    "colab": {
      "name": "Crypto.ipynb",
      "provenance": []
    },
    "kernelspec": {
      "name": "python3",
      "display_name": "Python 3"
    }
  },
  "cells": [
    {
      "cell_type": "markdown",
      "metadata": {
        "id": "z780PKfSJh8e"
      },
      "source": [
        "Installation de Pyfhel"
      ]
    },
    {
      "cell_type": "code",
      "metadata": {
        "colab": {
          "base_uri": "https://localhost:8080/"
        },
        "id": "PbFDb1gsJZqm",
        "outputId": "edbedc12-d884-4180-f1cc-6160a8480b90"
      },
      "source": [
        "!pip3 install Pyfhel"
      ],
      "execution_count": 1,
      "outputs": [
        {
          "output_type": "stream",
          "text": [
            "Collecting Pyfhel\n",
            "\u001b[?25l  Downloading https://files.pythonhosted.org/packages/aa/72/8bb15dd47331be25891ff129b2a816d4dec92c32efd68cc8be72eab82d55/Pyfhel-2.3.1.tar.gz (716kB)\n",
            "\u001b[K     |████████████████████████████████| 716kB 5.3MB/s \n",
            "\u001b[?25h  Installing build dependencies ... \u001b[?25l\u001b[?25hdone\n",
            "  Getting requirements to build wheel ... \u001b[?25l\u001b[?25hdone\n",
            "    Preparing wheel metadata ... \u001b[?25l\u001b[?25hdone\n",
            "Requirement already satisfied: cython>=0.29.2 in /usr/local/lib/python3.7/dist-packages (from Pyfhel) (0.29.22)\n",
            "Requirement already satisfied: numpy>=1.16.0 in /usr/local/lib/python3.7/dist-packages (from Pyfhel) (1.19.5)\n",
            "Requirement already satisfied: setuptools>=45.0.0 in /usr/local/lib/python3.7/dist-packages (from Pyfhel) (54.0.0)\n",
            "Building wheels for collected packages: Pyfhel\n",
            "  Building wheel for Pyfhel (PEP 517) ... \u001b[?25l\u001b[?25hdone\n",
            "  Created wheel for Pyfhel: filename=Pyfhel-2.3.1-cp37-cp37m-linux_x86_64.whl size=6184943 sha256=ecd0ac62c1d2b0c5ccd716ee011ab357f6aaf1788a883267da58c265e40ae7d5\n",
            "  Stored in directory: /root/.cache/pip/wheels/a1/9c/29/42613bbd5925b7e1eb6af52ee7cc6057c45cce394ea3face06\n",
            "Successfully built Pyfhel\n",
            "Installing collected packages: Pyfhel\n",
            "Successfully installed Pyfhel-2.3.1\n"
          ],
          "name": "stdout"
        }
      ]
    },
    {
      "cell_type": "markdown",
      "metadata": {
        "id": "giqFZAVtVAZX"
      },
      "source": [
        "# Exercice 1 : Chiffrement déterministe"
      ]
    },
    {
      "cell_type": "code",
      "metadata": {
        "id": "0L8ErBDQJg2i"
      },
      "source": [
        "N = 9203904823049823098420393\r\n",
        "e = 65537\r\n",
        "c = 3448251181187896868804359"
      ],
      "execution_count": 3,
      "outputs": []
    },
    {
      "cell_type": "code",
      "metadata": {
        "colab": {
          "base_uri": "https://localhost:8080/"
        },
        "id": "L1L4uJ9EJg0H",
        "outputId": "ce1e47f0-2bf8-4580-a4b3-1b04cbd86e43"
      },
      "source": [
        "print(\"300 : {}\".format(300**e%N == c))\r\n",
        "print(\"500 : {}\".format(500**e%N == c))"
      ],
      "execution_count": 7,
      "outputs": [
        {
          "output_type": "stream",
          "text": [
            "300 : False\n",
            "500 : True\n"
          ],
          "name": "stdout"
        }
      ]
    },
    {
      "cell_type": "code",
      "metadata": {
        "id": "sd7lFYnEJghu"
      },
      "source": [
        ""
      ],
      "execution_count": null,
      "outputs": []
    }
  ]
}