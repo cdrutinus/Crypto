{
  "nbformat": 4,
  "nbformat_minor": 0,
  "metadata": {
    "colab": {
      "name": "Crypto.ipynb",
      "provenance": []
    },
    "kernelspec": {
      "name": "python3",
      "display_name": "Python 3"
    }
  },
  "cells": [
    {
      "cell_type": "markdown",
      "metadata": {
        "id": "z780PKfSJh8e"
      },
      "source": [
        "# Installations"
      ]
    },
    {
      "cell_type": "code",
      "metadata": {
        "colab": {
          "base_uri": "https://localhost:8080/"
        },
        "id": "qTuhPskRjEdm",
        "outputId": "9ea07e8c-6a4b-4fd1-d6f1-1ccefa47e22f"
      },
      "source": [
        "!pip3 install Pyfhel"
      ],
      "execution_count": 2,
      "outputs": [
        {
          "output_type": "stream",
          "text": [
            "Collecting Pyfhel\n",
            "\u001b[?25l  Downloading https://files.pythonhosted.org/packages/aa/72/8bb15dd47331be25891ff129b2a816d4dec92c32efd68cc8be72eab82d55/Pyfhel-2.3.1.tar.gz (716kB)\n",
            "\u001b[K     |████████████████████████████████| 716kB 7.7MB/s \n",
            "\u001b[?25h  Installing build dependencies ... \u001b[?25l\u001b[?25hdone\n",
            "  Getting requirements to build wheel ... \u001b[?25l\u001b[?25hdone\n",
            "    Preparing wheel metadata ... \u001b[?25l\u001b[?25hdone\n",
            "Requirement already satisfied: numpy>=1.16.0 in /usr/local/lib/python3.7/dist-packages (from Pyfhel) (1.19.5)\n",
            "Requirement already satisfied: cython>=0.29.2 in /usr/local/lib/python3.7/dist-packages (from Pyfhel) (0.29.22)\n",
            "Requirement already satisfied: setuptools>=45.0.0 in /usr/local/lib/python3.7/dist-packages (from Pyfhel) (54.0.0)\n",
            "Building wheels for collected packages: Pyfhel\n",
            "  Building wheel for Pyfhel (PEP 517) ... \u001b[?25l\u001b[?25hdone\n",
            "  Created wheel for Pyfhel: filename=Pyfhel-2.3.1-cp37-cp37m-linux_x86_64.whl size=6184767 sha256=c7c5e1bb31e658a1de24165ba83b55cb88b4bda9ec47c8561107a425d96e3ddc\n",
            "  Stored in directory: /root/.cache/pip/wheels/a1/9c/29/42613bbd5925b7e1eb6af52ee7cc6057c45cce394ea3face06\n",
            "Successfully built Pyfhel\n",
            "Installing collected packages: Pyfhel\n",
            "Successfully installed Pyfhel-2.3.1\n"
          ],
          "name": "stdout"
        }
      ]
    },
    {
      "cell_type": "code",
      "metadata": {
        "id": "PbFDb1gsJZqm"
      },
      "source": [
        "from Pyfhel import Pyfhel, PyPtxt, PyCtxt\r\n",
        "import random"
      ],
      "execution_count": 57,
      "outputs": []
    },
    {
      "cell_type": "markdown",
      "metadata": {
        "id": "giqFZAVtVAZX"
      },
      "source": [
        "# Exercice 1 : Chiffrement déterministe"
      ]
    },
    {
      "cell_type": "code",
      "metadata": {
        "id": "0L8ErBDQJg2i"
      },
      "source": [
        "N = 9203904823049823098420393\r\n",
        "e = 65537\r\n",
        "c = 3448251181187896868804359"
      ],
      "execution_count": 5,
      "outputs": []
    },
    {
      "cell_type": "code",
      "metadata": {
        "colab": {
          "base_uri": "https://localhost:8080/"
        },
        "id": "L1L4uJ9EJg0H",
        "outputId": "7da62ac8-e480-4487-b0a5-dbbb2fba71d5"
      },
      "source": [
        "print(\"300 : {}\".format(300**e%N == c))\r\n",
        "print(\"500 : {}\".format(500**e%N == c))"
      ],
      "execution_count": 6,
      "outputs": [
        {
          "output_type": "stream",
          "text": [
            "300 : False\n",
            "500 : True\n"
          ],
          "name": "stdout"
        }
      ]
    },
    {
      "cell_type": "markdown",
      "metadata": {
        "id": "F2apmnpIjg5o"
      },
      "source": [
        "# TP"
      ]
    },
    {
      "cell_type": "markdown",
      "metadata": {
        "id": "30XhzjVTjnVv"
      },
      "source": [
        "## 1. Tutorials"
      ]
    },
    {
      "cell_type": "markdown",
      "metadata": {
        "id": "DbDivk90lUmY"
      },
      "source": [
        "### 1.1 HelloWorld"
      ]
    },
    {
      "cell_type": "markdown",
      "metadata": {
        "id": "9vs3rncdmBJx"
      },
      "source": [
        "Context and key setup"
      ]
    },
    {
      "cell_type": "code",
      "metadata": {
        "id": "Sy16rmN3jhbe"
      },
      "source": [
        "HE = Pyfhel()           # Creating empty Pyfhel object\r\n",
        "HE.contextGen(p=65537)  # Generating context. The p defines the plaintext modulo.\r\n",
        "                        #  There are many configurable parameters on this step\r\n",
        "                        #  More info in Demo_ContextParameters, and\r\n",
        "                        #  in Pyfhel.contextGen()\r\n",
        "HE.keyGen()             # Key Generation: generates a pair of public/secret keys"
      ],
      "execution_count": 7,
      "outputs": []
    },
    {
      "cell_type": "code",
      "metadata": {
        "colab": {
          "base_uri": "https://localhost:8080/"
        },
        "id": "Ne25LYLyjkDj",
        "outputId": "dc650f62-f95d-4cc5-e0ed-3775f63f20c7"
      },
      "source": [
        "print(\"2. Context and key setup\")\r\n",
        "print(HE)"
      ],
      "execution_count": 8,
      "outputs": [
        {
          "output_type": "stream",
          "text": [
            "2. Context and key setup\n",
            "<Pyfhel obj at 0x7f8f3988eaf0, [pk:Y, sk:Y, rtk:-, rlk:-, contx(p=65537, m=2048, base=2, sec=128, dig=64i.32f, batch=False)]>\n"
          ],
          "name": "stdout"
        }
      ]
    },
    {
      "cell_type": "markdown",
      "metadata": {
        "id": "RUAxyDrLmETx"
      },
      "source": [
        "Integer Encryption"
      ]
    },
    {
      "cell_type": "code",
      "metadata": {
        "colab": {
          "base_uri": "https://localhost:8080/"
        },
        "id": "qy0wz4s_lePs",
        "outputId": "d052db45-8443-4af5-a68b-87cabbe1b1eb"
      },
      "source": [
        "integer1 = 127\r\n",
        "integer2 = -2\r\n",
        "ctxt1 = HE.encryptInt(integer1) # Encryption makes use of the public key\r\n",
        "ctxt2 = HE.encryptInt(integer2) # For integers, encryptInt function is used.\r\n",
        "print(\"3. Integer Encryption\")\r\n",
        "print(\"    int \",integer1,'-> ctxt1 ', type(ctxt1))\r\n",
        "print(\"    int \",integer2,'-> ctxt2 ', type(ctxt2))"
      ],
      "execution_count": 9,
      "outputs": [
        {
          "output_type": "stream",
          "text": [
            "3. Integer Encryption\n",
            "    int  127 -> ctxt1  <class 'Pyfhel.PyCtxt.PyCtxt'>\n",
            "    int  -2 -> ctxt2  <class 'Pyfhel.PyCtxt.PyCtxt'>\n"
          ],
          "name": "stdout"
        }
      ]
    },
    {
      "cell_type": "code",
      "metadata": {
        "colab": {
          "base_uri": "https://localhost:8080/"
        },
        "id": "E0EoBzNtlhHi",
        "outputId": "c5681cfd-0e97-478d-8aea-58a07d30e705"
      },
      "source": [
        "print(ctxt1)\r\n",
        "print(ctxt2)"
      ],
      "execution_count": 10,
      "outputs": [
        {
          "output_type": "stream",
          "text": [
            "<Pyfhel Ciphertext at 0x7f8f3918ce10, encoding=INTEGER, size=2/2, noiseBudget=27>\n",
            "<Pyfhel Ciphertext at 0x7f8f3918f0f0, encoding=INTEGER, size=2/2, noiseBudget=28>\n"
          ],
          "name": "stdout"
        }
      ]
    },
    {
      "cell_type": "markdown",
      "metadata": {
        "id": "MHJgP7YrmHUp"
      },
      "source": [
        "Operating with encrypted integers"
      ]
    },
    {
      "cell_type": "code",
      "metadata": {
        "colab": {
          "base_uri": "https://localhost:8080/"
        },
        "id": "2QK5pvbblkUl",
        "outputId": "db9502d5-5e99-4119-d876-f59b30e4ac86"
      },
      "source": [
        "ctxtSum = ctxt1 + ctxt2         # `ctxt1 += ctxt2` for quicker inplace operation\r\n",
        "ctxtSub = ctxt1 - ctxt2         # `ctxt1 -= ctxt2` for quicker inplace operation\r\n",
        "ctxtMul = ctxt1 * ctxt2         # `ctxt1 *= ctxt2` for quicker inplace operation\r\n",
        "print(\"4. Operating with encrypted integers\")\r\n",
        "print(f\"Sum: {ctxtSum}\")\r\n",
        "print(f\"Sub: {ctxtSub}\")\r\n",
        "print(f\"Mult:{ctxtMul}\")"
      ],
      "execution_count": 11,
      "outputs": [
        {
          "output_type": "stream",
          "text": [
            "4. Operating with encrypted integers\n",
            "Sum: <Pyfhel Ciphertext at 0x7f8f39816d70, encoding=INTEGER, size=2/2, noiseBudget=27>\n",
            "Sub: <Pyfhel Ciphertext at 0x7f8f3918e050, encoding=INTEGER, size=2/2, noiseBudget=27>\n",
            "Mult:<Pyfhel Ciphertext at 0x7f8f3918e0a0, encoding=INTEGER, size=3/3, noiseBudget=1>\n"
          ],
          "name": "stdout"
        }
      ]
    },
    {
      "cell_type": "markdown",
      "metadata": {
        "id": "HwKauuXVmKbg"
      },
      "source": [
        "Decrypting integers"
      ]
    },
    {
      "cell_type": "code",
      "metadata": {
        "colab": {
          "base_uri": "https://localhost:8080/"
        },
        "id": "0gOZKF74lpO-",
        "outputId": "649f60cb-a682-42e3-b143-729769a8f4c2"
      },
      "source": [
        "resSum = HE.decryptInt(ctxtSum) # Decryption must use the corresponding function\r\n",
        "                                #  decryptInt.\r\n",
        "resSub = HE.decryptInt(ctxtSub)\r\n",
        "resMul = HE.decryptInt(ctxtMul)\r\n",
        "print(\"#. Decrypting result:\")\r\n",
        "print(\"     addition:       decrypt(ctxt1 + ctxt2) =  \", resSum)\r\n",
        "print(\"     substraction:   decrypt(ctxt1 - ctxt2) =  \", resSub)\r\n",
        "print(\"     multiplication: decrypt(ctxt1 * ctxt2) =  \", resMul)"
      ],
      "execution_count": 16,
      "outputs": [
        {
          "output_type": "stream",
          "text": [
            "#. Decrypting result:\n",
            "     addition:       decrypt(ctxt1 + ctxt2) =   -4101572373324438657\n",
            "     substraction:   decrypt(ctxt1 - ctxt2) =   -6957881088834121056\n",
            "     multiplication: decrypt(ctxt1 * ctxt2) =   -8544706250480878462\n"
          ],
          "name": "stdout"
        }
      ]
    },
    {
      "cell_type": "markdown",
      "metadata": {
        "id": "es-Zob5omnzX"
      },
      "source": [
        "### 1.2 MultDepth and Relinearization\r\n",
        "Creating Context and KeyGen"
      ]
    },
    {
      "cell_type": "code",
      "metadata": {
        "colab": {
          "base_uri": "https://localhost:8080/"
        },
        "id": "VRC96AntlxSd",
        "outputId": "a66bef84-c003-4a8f-edc9-1aea7c8c353e"
      },
      "source": [
        "print(\"1. Creating Context and KeyGen in a Pyfhel Object. Using 64 \")\r\n",
        "print(\"     bits for integer part and 32 bits for decimal part.\")\r\n",
        "HE = Pyfhel()           # Creating empty Pyfhel object\r\n",
        "HE.contextGen(p=65537, base=2, intDigits=64, fracDigits = 32)\r\n",
        "                        # Generating context. The value of p is important.\r\n",
        "                        #  There are many configurable parameters on this step\r\n",
        "                        #  More info in Demo_ContextParameters.py, and\r\n",
        "                        #  in the docs of the function (link to docs in README)\r\n",
        "HE.keyGen()             # Key Generation.\r\n",
        "print(HE)"
      ],
      "execution_count": 40,
      "outputs": [
        {
          "output_type": "stream",
          "text": [
            "1. Creating Context and KeyGen in a Pyfhel Object. Using 64 \n",
            "     bits for integer part and 32 bits for decimal part.\n",
            "<Pyfhel obj at 0x7f8f3a191e30, [pk:Y, sk:Y, rtk:-, rlk:-, contx(p=65537, m=2048, base=2, sec=128, dig=64i.32f, batch=False)]>\n"
          ],
          "name": "stdout"
        }
      ]
    },
    {
      "cell_type": "markdown",
      "metadata": {
        "id": "LPWktyDfncoo"
      },
      "source": [
        "Encrypting Fractionals"
      ]
    },
    {
      "cell_type": "code",
      "metadata": {
        "colab": {
          "base_uri": "https://localhost:8080/"
        },
        "id": "k56Gq4zcnapT",
        "outputId": "600c69ee-db29-41db-8b70-1bbd5a88a734"
      },
      "source": [
        "print(\"2. Encrypting Fractionals\")\r\n",
        "float1 = -2.3\r\n",
        "float2 = 3.4\r\n",
        "ctxt1 = HE.encryptFrac(float1) # Encryption makes use of the public key\r\n",
        "ctxt2 = HE.encryptFrac(float2) # For integers, encryptInt function is used.\r\n",
        "print(\"    int \",float1,'-> ctxt1 ', type(ctxt1))\r\n",
        "print(\"    int \",float2,'-> ctxt2 ', type(ctxt2))\r\n",
        "print(ctxt1)\r\n",
        "print(ctxt2)"
      ],
      "execution_count": 41,
      "outputs": [
        {
          "output_type": "stream",
          "text": [
            "2. Encrypting Fractionals\n",
            "    int  -2.3 -> ctxt1  <class 'Pyfhel.PyCtxt.PyCtxt'>\n",
            "    int  3.4 -> ctxt2  <class 'Pyfhel.PyCtxt.PyCtxt'>\n",
            "<Pyfhel Ciphertext at 0x7f8f391a4460, encoding=FRACTIONAL, size=2/2, noiseBudget=27>\n",
            "<Pyfhel Ciphertext at 0x7f8f391a40f0, encoding=FRACTIONAL, size=2/2, noiseBudget=27>\n"
          ],
          "name": "stdout"
        }
      ]
    },
    {
      "cell_type": "markdown",
      "metadata": {
        "id": "BBQMg6PfnnDV"
      },
      "source": [
        "Operating with encrypted fractionals multiple times"
      ]
    },
    {
      "cell_type": "code",
      "metadata": {
        "colab": {
          "base_uri": "https://localhost:8080/"
        },
        "id": "uuCDaHirnh3x",
        "outputId": "88a3be2e-b1da-4cdf-8973-6dd75e459dcc"
      },
      "source": [
        "print(\"3. Operating with encrypted fractionals multiple times\")\r\n",
        "print(\"     ctxtMul1 = ctxt1 * ctxt2\")\r\n",
        "ctxtMul1 = ctxt1 * ctxt2         # `ctxt1 *= ctxt2` for quicker inplace operation\r\n",
        "print(ctxtMul1)\r\n",
        "print(\"   Notice the increase in size: size(ctxtMul1) = size(ctxt1) + size(ctxt2) - 1\")\r\n",
        "print(\"   This rule applies for all multiplications.\")\r\n",
        "print(\"   This size increase makes further operations slower, and requires more memory\")"
      ],
      "execution_count": 42,
      "outputs": [
        {
          "output_type": "stream",
          "text": [
            "3. Operating with encrypted fractionals multiple times\n",
            "     ctxtMul1 = ctxt1 * ctxt2\n",
            "<Pyfhel Ciphertext at 0x7f8f391a40a0, encoding=FRACTIONAL, size=3/3, noiseBudget=1>\n",
            "   Notice the increase in size: size(ctxtMul1) = size(ctxt1) + size(ctxt2) - 1\n",
            "   This rule applies for all multiplications.\n",
            "   This size increase makes further operations slower, and requires more memory\n"
          ],
          "name": "stdout"
        }
      ]
    },
    {
      "cell_type": "markdown",
      "metadata": {
        "id": "d8fFXMgcn-OA"
      },
      "source": [
        "Relinearization"
      ]
    },
    {
      "cell_type": "code",
      "metadata": {
        "colab": {
          "base_uri": "https://localhost:8080/"
        },
        "id": "ulkBe8i3nq9Q",
        "outputId": "8f7f1e3c-b6bf-4826-b49c-aa5557e4ec8b"
      },
      "source": [
        "print(\"4. Relinearization reduces the size of a ciphertext back to 2, thus it is very convenient for deep multiplications\")\r\n",
        "print(\"    First we generate relinearization keys.\")\r\n",
        "print(\"    * Make sure the relinKey size is higher than the size of the ciphertext you want to relinearize.\")\r\n",
        "print(\"    * bigger bitCount means faster relinarization, but also bigger decrease in noiseBudget. Needs to be within [1, 60]\")\r\n",
        "print(ctxtMul1.size())\r\n",
        "relinKeySize=5\r\n",
        "HE.relinKeyGen(bitCount=1, size=relinKeySize)\r\n",
        "print(\"   We can now relinearize!\")\r\n",
        "assert relinKeySize >= ctxtMul1.size()\r\n",
        "\r\n",
        "ctxtMul1 = ~ ctxtMul1 # Equivalent to HE.relinearize(ctxtMul)\r\n",
        "                      # and equivalent to  ~ctxtMul1 (without assignment)\r\n",
        "print(ctxtMul1)\r\n",
        "print(\"   Good! size increase is solved with relinearization.\")"
      ],
      "execution_count": 44,
      "outputs": [
        {
          "output_type": "stream",
          "text": [
            "4. Relinearization reduces the size of a ciphertext back to 2, thus it is very convenient for deep multiplications\n",
            "    First we generate relinearization keys.\n",
            "    * Make sure the relinKey size is higher than the size of the ciphertext you want to relinearize.\n",
            "    * bigger bitCount means faster relinarization, but also bigger decrease in noiseBudget. Needs to be within [1, 60]\n",
            "2\n",
            "   We can now relinearize!\n",
            "<Pyfhel Ciphertext at 0x7f8f391a40a0, encoding=FRACTIONAL, size=2/3, noiseBudget=1>\n",
            "   Good! size increase is solved with relinearization.\n"
          ],
          "name": "stdout"
        }
      ]
    },
    {
      "cell_type": "markdown",
      "metadata": {
        "id": "r1llxKOCoZlQ"
      },
      "source": [
        " Noise budget"
      ]
    },
    {
      "cell_type": "code",
      "metadata": {
        "colab": {
          "base_uri": "https://localhost:8080/"
        },
        "id": "48u2Y1G_oArQ",
        "outputId": "6e21e569-b292-43b4-db16-d6f3340ba98d"
      },
      "source": [
        "print(\"5. Noise budget: You can see ciphertexts as noisy signals. Every multiplication will drastically increase the noise, thus reducing the noise budget.\")\r\n",
        "print(\"   Notice the decrease in noise budget in the previous multiplication\")\r\n",
        "print(\"   If the noise budget reaches zero, we won't be able to decrypt correctly!\")\r\n",
        "print(\"ctxtMulsq = ctxtMult1**2\")\r\n",
        "ctxtMulsq = ctxtMul1**2\r\n",
        "print(ctxtMulsq)\r\n",
        "print(\"     decrypt(ctxtMul1) =  \", HE.decryptFrac(ctxtMul1))\r\n",
        "print(f\"      expected: {float1*float2}\")\r\n",
        "print(\"     decrypt(ctxtMulsq) =  \", HE.decryptFrac(ctxtMulsq))\r\n",
        "print(f\"      expected: {(float1*float2)**2}\")"
      ],
      "execution_count": 45,
      "outputs": [
        {
          "output_type": "stream",
          "text": [
            "5. Noise budget: You can see ciphertexts as noisy signals. Every multiplication will drastically increase the noise, thus reducing the noise budget.\n",
            "   Notice the decrease in noise budget in the previous multiplication\n",
            "   If the noise budget reaches zero, we won't be able to decrypt correctly!\n",
            "ctxtMulsq = ctxtMult1**2\n",
            "<Pyfhel Ciphertext at 0x7f8f389baaa0, encoding=FRACTIONAL, size=3/3, noiseBudget=0>\n",
            "     decrypt(ctxtMul1) =   -7.819999997736886\n",
            "      expected: -7.819999999999999\n",
            "     decrypt(ctxtMulsq) =   -7.399226950880923e+18\n",
            "      expected: 61.15239999999999\n"
          ],
          "name": "stdout"
        }
      ]
    },
    {
      "cell_type": "markdown",
      "metadata": {
        "id": "vZ72jEHJopUw"
      },
      "source": [
        "Solution"
      ]
    },
    {
      "cell_type": "code",
      "metadata": {
        "colab": {
          "base_uri": "https://localhost:8080/"
        },
        "id": "e1pKVfwjocB4",
        "outputId": "6998dd85-1b2d-4b40-9fce-615df91af500"
      },
      "source": [
        "print(\"6. I need more noise budget! You have several options:\")\r\n",
        "print(\"  - Use better context parameters (mainly increase m, reduce p, reduce intDigits and fracDigits\")\r\n",
        "print(\"    -> Try this demo changing p to be 63 (enough to hold the result value) -> precision lowers, but operations are faster and noise budget decreases slower\")\r\n",
        "print(\"    -> Try this demo with m=8192 (more multiplications are allowed, but operations are slower)\")\r\n",
        "print(\"  - Decrypt and encrypt again.\")\r\n",
        "print(\"  - Use bootstrapping: Sadly it is not available in SEAL, and even if it were, it would be extremely inefficient. It is always better to resort to the first option\")"
      ],
      "execution_count": 46,
      "outputs": [
        {
          "output_type": "stream",
          "text": [
            "6. I need more noise budget! You have several options:\n",
            "  - Use better context parameters (mainly increase m, reduce p, reduce intDigits and fracDigits\n",
            "    -> Try this demo changing p to be 63 (enough to hold the result value) -> precision lowers, but operations are faster and noise budget decreases slower\n",
            "    -> Try this demo with m=8192 (more multiplications are allowed, but operations are slower)\n",
            "  - Decrypt and encrypt again.\n",
            "  - Use bootstrapping: Sadly it is not available in SEAL, and even if it were, it would be extremely inefficient. It is always better to resort to the first option\n"
          ],
          "name": "stdout"
        }
      ]
    },
    {
      "cell_type": "markdown",
      "metadata": {
        "id": "3TSvidGLpEgF"
      },
      "source": [
        "MultDepth"
      ]
    },
    {
      "cell_type": "code",
      "metadata": {
        "colab": {
          "base_uri": "https://localhost:8080/"
        },
        "id": "zps98zK6pDL4",
        "outputId": "46694d5f-5d5c-4856-cefe-f102e42ec6ba"
      },
      "source": [
        "print(\"7. How to check the multiplicative depth of a setup? Use the function MultDepth!\")\r\n",
        "HE.multDepth(max_depth=64, delta=0.1, x_y_z=(1, 10, 0.1), verbose=True)"
      ],
      "execution_count": 47,
      "outputs": [
        {
          "output_type": "stream",
          "text": [
            "7. How to check the multiplicative depth of a setup? Use the function MultDepth!\n",
            "Mult 1 [budget: 1 dB]: 10.0 (expected 10)\n",
            "Mult 2 [budget: 0 dB]: -6.832096819282702e+18 (expected 1.0)\n"
          ],
          "name": "stdout"
        },
        {
          "output_type": "execute_result",
          "data": {
            "text/plain": [
              "2"
            ]
          },
          "metadata": {
            "tags": []
          },
          "execution_count": 47
        }
      ]
    },
    {
      "cell_type": "markdown",
      "metadata": {
        "id": "6wFxesxWqz7I"
      },
      "source": [
        "## 2. Arithmetic tasks"
      ]
    },
    {
      "cell_type": "markdown",
      "metadata": {
        "id": "wFLnE7T-z8tr"
      },
      "source": [
        "### 2.1 Simple Encryption/Decryption"
      ]
    },
    {
      "cell_type": "code",
      "metadata": {
        "id": "vU6u01ZTq2Rt"
      },
      "source": [
        "HE = Pyfhel()           \r\n",
        "HE.contextGen(p=65537)\r\n",
        "\r\n",
        "HE.keyGen() "
      ],
      "execution_count": 48,
      "outputs": []
    },
    {
      "cell_type": "code",
      "metadata": {
        "colab": {
          "base_uri": "https://localhost:8080/"
        },
        "id": "fwn8BYXXrBjf",
        "outputId": "eab840c1-0bdf-4a45-89bd-d01e561500d3"
      },
      "source": [
        "integer1 = 2\r\n",
        "integer2 = 15\r\n",
        "\r\n",
        "ctxt1 = HE.encryptInt(integer1) \r\n",
        "ctxt2 = HE.encryptInt(integer2)\r\n",
        "\r\n",
        "print(\"Integer : {} -> Encrypted : {}\".format(integer1,ctxt1))\r\n",
        "print(\"Integer : {} -> Encrypted : {}\".format(integer2,ctxt2))"
      ],
      "execution_count": 50,
      "outputs": [
        {
          "output_type": "stream",
          "text": [
            "Integer : 2 -> Encrypted : <Pyfhel Ciphertext at 0x7f8f389b6a00, encoding=INTEGER, size=2/2, noiseBudget=27>\n",
            "Integer : 15 -> Encrypted : <Pyfhel Ciphertext at 0x7f8f38996b90, encoding=INTEGER, size=2/2, noiseBudget=28>\n"
          ],
          "name": "stdout"
        }
      ]
    },
    {
      "cell_type": "code",
      "metadata": {
        "colab": {
          "base_uri": "https://localhost:8080/"
        },
        "id": "eephZ8zDrpFK",
        "outputId": "054ce805-1bb6-408a-db03-db366bc38c25"
      },
      "source": [
        "res1 = HE.decryptInt(ctxt1)\r\n",
        "res2 = HE.decryptInt(ctxt2)\r\n",
        "\r\n",
        "print(\"Integer : {} (expected : {})\".format(integer1,res1))\r\n",
        "print(\"Integer : {} (expected : {})\".format(integer2,res2))"
      ],
      "execution_count": 51,
      "outputs": [
        {
          "output_type": "stream",
          "text": [
            "Integer : 2 (expected : 2)\n",
            "Integer : 15 (expected : 15)\n"
          ],
          "name": "stdout"
        }
      ]
    },
    {
      "cell_type": "markdown",
      "metadata": {
        "id": "EhXlg9eIsJNy"
      },
      "source": [
        "### 2.2 Add Encryption/Decryption"
      ]
    },
    {
      "cell_type": "code",
      "metadata": {
        "id": "Qvp5mdJ9sB2C"
      },
      "source": [
        "HE = Pyfhel()           \r\n",
        "HE.contextGen(p=65537)\r\n",
        "\r\n",
        "HE.keyGen() "
      ],
      "execution_count": 52,
      "outputs": []
    },
    {
      "cell_type": "code",
      "metadata": {
        "colab": {
          "base_uri": "https://localhost:8080/"
        },
        "id": "babMAs_DsPpU",
        "outputId": "3858f090-bb4a-4940-be21-2306b8f1c171"
      },
      "source": [
        "integer1 = 2\r\n",
        "integer2 = 15\r\n",
        "\r\n",
        "ctxt1 = HE.encryptInt(integer1) \r\n",
        "ctxt2 = HE.encryptInt(integer2)\r\n",
        "\r\n",
        "print(\"Integer : {} -> Encrypted : {}\".format(integer1,ctxt1))\r\n",
        "print(\"Integer : {} -> Encrypted : {}\".format(integer2,ctxt2))"
      ],
      "execution_count": 53,
      "outputs": [
        {
          "output_type": "stream",
          "text": [
            "Integer : 2 -> Encrypted : <Pyfhel Ciphertext at 0x7f8f389c3fa0, encoding=INTEGER, size=2/2, noiseBudget=27>\n",
            "Integer : 15 -> Encrypted : <Pyfhel Ciphertext at 0x7f8f389b6a00, encoding=INTEGER, size=2/2, noiseBudget=27>\n"
          ],
          "name": "stdout"
        }
      ]
    },
    {
      "cell_type": "code",
      "metadata": {
        "colab": {
          "base_uri": "https://localhost:8080/"
        },
        "id": "R1IFDEY8sQIK",
        "outputId": "82318329-1747-44e0-8e50-239528ed7f19"
      },
      "source": [
        "ctxtSum = ctxt1 + ctxt2\r\n",
        "\r\n",
        "resSum = HE.decryptInt(ctxtSum)\r\n",
        "\r\n",
        "print(\"Integers : ({},{}) -> Sum : {} (expected : {})\".format(integer1,integer2,resSum,integer1+integer2))"
      ],
      "execution_count": 54,
      "outputs": [
        {
          "output_type": "stream",
          "text": [
            "Integers : (2,15) -> Sum : 17 (expected : 17)\n"
          ],
          "name": "stdout"
        }
      ]
    },
    {
      "cell_type": "markdown",
      "metadata": {
        "id": "3qcZZ9n0s0kP"
      },
      "source": [
        "### 2.3 Linear Encryption/Decryption"
      ]
    },
    {
      "cell_type": "code",
      "metadata": {
        "id": "_-3VabSssqRa"
      },
      "source": [
        "HE = Pyfhel()           \r\n",
        "HE.contextGen(p=65537)\r\n",
        "\r\n",
        "HE.keyGen()"
      ],
      "execution_count": 76,
      "outputs": []
    },
    {
      "cell_type": "code",
      "metadata": {
        "colab": {
          "base_uri": "https://localhost:8080/"
        },
        "id": "8d-_poG4s65f",
        "outputId": "9a1f9bdc-b884-44b3-a70a-d093e46bfcbb"
      },
      "source": [
        "n=5\r\n",
        "\r\n",
        "integers = [random.randint(0,100) for i in range(n)]\r\n",
        "weights = [random.randint(0,5) for i in range(n)]\r\n",
        "\r\n",
        "print(\"Integers : \",integers)\r\n",
        "print(\"Weights : \",weights)\r\n",
        "\r\n",
        "ctxts = [HE.encryptInt(integer) for integer in integers]"
      ],
      "execution_count": 78,
      "outputs": [
        {
          "output_type": "stream",
          "text": [
            "Integers :  [46, 36, 53, 27, 84]\n",
            "Weights :  [5, 4, 3, 5, 4]\n"
          ],
          "name": "stdout"
        }
      ]
    },
    {
      "cell_type": "code",
      "metadata": {
        "id": "jTFIZ7Eas87k"
      },
      "source": [
        "ctxtLinear = ctxts[0]*weights[0]\r\n",
        "\r\n",
        "for i in range(1,n):\r\n",
        "  res = ctxts[i]*weights[i]\r\n",
        "  ctxtLinear += res\r\n",
        "\r\n",
        "resLinear = HE.decryptInt(ctxtLinear)"
      ],
      "execution_count": 79,
      "outputs": []
    },
    {
      "cell_type": "code",
      "metadata": {
        "colab": {
          "base_uri": "https://localhost:8080/"
        },
        "id": "NfLJsfncvJ0P",
        "outputId": "1815fd0c-57b7-40d4-cbb2-8197644532e9"
      },
      "source": [
        "calcul = sum([integers[i]*weights[i] for i in range(n)])\r\n",
        "print(\"Result : {}  (expected {})\".format(resLinear,calcul))"
      ],
      "execution_count": 81,
      "outputs": [
        {
          "output_type": "stream",
          "text": [
            "Result : 1004  (expected 1004)\n"
          ],
          "name": "stdout"
        }
      ]
    },
    {
      "cell_type": "markdown",
      "metadata": {
        "id": "NhRVwzMzwKXe"
      },
      "source": [
        "### 2.4 Sigmoid Encryption/Decryption"
      ]
    },
    {
      "cell_type": "code",
      "metadata": {
        "id": "1M4EYWlUvbV1"
      },
      "source": [
        "HE = Pyfhel()           \r\n",
        "HE.contextGen(p=65537)\r\n",
        "\r\n",
        "HE.keyGen()"
      ],
      "execution_count": 82,
      "outputs": []
    },
    {
      "cell_type": "code",
      "metadata": {
        "colab": {
          "base_uri": "https://localhost:8080/"
        },
        "id": "muWKP47lyrz3",
        "outputId": "0d102474-f571-46a4-f5f5-94d20beabc14"
      },
      "source": [
        "x = 2.33\r\n",
        "ctxt = HE.encryptFrac(x)\r\n",
        "\r\n",
        "relinKeySize=5\r\n",
        "HE.relinKeyGen(bitCount=1, size=relinKeySize)\r\n",
        "\r\n",
        "ctxt2 = ctxt**2\r\n",
        "print(ctxt2.size())\r\n",
        "~ctxt2\r\n",
        "\r\n",
        "ctxt3 = ctxt2*ctxt\r\n",
        "print(ctxt3.size())\r\n",
        "~ctxt3\r\n",
        "\r\n",
        "ctxtSigmoid = ctxt2*3 - ctxt3*2\r\n",
        "\r\n",
        "resSigmoid = HE.decryptFrac(ctxtSigmoid)"
      ],
      "execution_count": 89,
      "outputs": [
        {
          "output_type": "stream",
          "text": [
            "3\n",
            "3\n"
          ],
          "name": "stdout"
        }
      ]
    },
    {
      "cell_type": "code",
      "metadata": {
        "colab": {
          "base_uri": "https://localhost:8080/"
        },
        "id": "XdwgxuX8zsC2",
        "outputId": "fbd4e225-b3bd-4d5b-c7c5-d7a2c7f37bb3"
      },
      "source": [
        "calcul = 3*x**2 - 2*x**3\r\n",
        "print(\"Result : {}  (expected {})\".format(resSigmoid,calcul))"
      ],
      "execution_count": 90,
      "outputs": [
        {
          "output_type": "stream",
          "text": [
            "Result : 2.7567198829024486e+18  (expected -9.011973999999999)\n"
          ],
          "name": "stdout"
        }
      ]
    },
    {
      "cell_type": "code",
      "metadata": {
        "id": "_epepENz51ii"
      },
      "source": [
        ""
      ],
      "execution_count": null,
      "outputs": []
    }
  ]
}